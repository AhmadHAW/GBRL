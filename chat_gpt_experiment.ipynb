{
 "cells": [
  {
   "cell_type": "code",
   "execution_count": 1,
   "metadata": {},
   "outputs": [],
   "source": [
    "from agents.chat_gpt_agent import ChatGPTAgent\n"
   ]
  },
  {
   "cell_type": "markdown",
   "metadata": {},
   "source": [
    "### Chat-GPT Agent\n",
    "The Chat-GPT agent uses prompt engineering to teach chat-gpt the syntax of our GBRL. This way we can use a pretrained model for texting without the need of finetuning it."
   ]
  },
  {
   "cell_type": "code",
   "execution_count": 10,
   "metadata": {},
   "outputs": [
    {
     "name": "stdout",
     "output_type": "stream",
     "text": [
      "Pass the following prompt to Chat-GPT:\n",
      "I will give you a set of instructions in a certain style in tripple quotes. Make sure you respond only in the syntax i expect. I will give you multiple examples and expeced responses with an explanation.\n",
      "example 1: '''<s1><:>I love my dog.<;><s2><:>I don't own a dog.<;><e1><:><rel1><;><s1><e1><s2><;>'''\n",
      "example 1 expected response: '''<rel1><:><con><;>'''\n",
      "example 1 explanation: Two nodes <s1> and <s2> are defined and we ask you to solve for the textual entailment relationship <e1> between those nodes with its placeholder <rel1>. Your task is to predict the placeholder <rel1>, which can be either <ent> for entailment, <con> for contradiction,<neu> for neutral, <nent> for not entailment, <ncon> for not contradiction or <nneu> for not neutral. The statement <s1> strongly suggest the ownership which contradicts <s2>, thats why <rel1> can be filled with <con>.\n",
      "example 2: '''<s1><:>I is raining on the street.<;><s2><:><t2><;><s1><ent><s2><;>'''\n",
      "example 2 expected response: '''<t2><:>The street is wet.<;>'''\n",
      "example 2 explanation: Instead of solving for the relationship between two nodes, this task prompts you to solve for a node <s2> itself, that fits the given relationships. A possible answer could be: \"The street is wet.\", because it is almost impossible for the street not to be wet if it's raining. The placeholder <t2> suggests you should try to fill this node with a statement.\n",
      "example 3: '''<s1><:>A lumberjack is working in the woods.<;><s2><:><t2><;><s3><:>A tree fell to the ground<;><s1><ent><s2><;><s2><ent><s3><;><s1><ent><s3><;>'''\n",
      "example 3 expected response: '''<t2><:>The lumberjack fell a tree.<;>'''\n",
      "example 3 explanation: In this example the task is to produce a statement that fill the position for <t2> with the placeholder <t2>, so that all relations between the statements are considered true.\n",
      "Say begin if you understood.\n"
     ]
    }
   ],
   "source": [
    "agent = ChatGPTAgent()"
   ]
  },
  {
   "cell_type": "markdown",
   "metadata": {},
   "source": [
    "A User has to copy paste the printed prompts from the output interface to the webclient of Chat-GPT.\n",
    "As before, the user adds nodes to the graph and calls the graph operation. The printed query is then passed to Chat-GPT.\n",
    "The user then copy pastes the response from Chat-GPT to the input field of this notebook."
   ]
  },
  {
   "cell_type": "code",
   "execution_count": 11,
   "metadata": {},
   "outputs": [
    {
     "name": "stdout",
     "output_type": "stream",
     "text": [
      "Pass the following text to ChatGPT and return with the response.\n",
      "'''<s1><:>I live in Hamburg.<;><s2><:>I live nearby a river.<;><e1><:><rel1><;><s1><e1><s2><;>'''\n"
     ]
    },
    {
     "data": {
      "image/png": "[encoded data removed]",
      "text/plain": [
       "<Figure size 200x100 with 1 Axes>"
      ]
     },
     "metadata": {},
     "output_type": "display_data"
    },
    {
     "name": "stdout",
     "output_type": "stream",
     "text": [
      "{\n",
      "    \"A\": \"I live in Hamburg.\",\n",
      "    \"H\": \"I live nearby a river.\"\n",
      "}\n"
     ]
    }
   ],
   "source": [
    "agent.add_node(\"A\", \"I live in Hamburg.\")\n",
    "agent.add_node(\"H\", \"I live nearby a river.\")\n",
    "agent.relation_between(\"A\", \"H\")\n",
    "agent.display_Graph()"
   ]
  },
  {
   "cell_type": "markdown",
   "metadata": {},
   "source": [
    "In this case Chat-GPT decided against our expectations, that living in Hamburg entails living nearby a river.\n",
    "Let's see what explanation Chat-GPT gives for that relation."
   ]
  },
  {
   "cell_type": "code",
   "execution_count": 12,
   "metadata": {},
   "outputs": [
    {
     "name": "stdout",
     "output_type": "stream",
     "text": [
      "Pass the following text to ChatGPT and return with the response.\n",
      "'''<s1><:>I live in Hamburg.<;><s2><:><t2><;><s3><:>I live nearby a river.<;><s1><ent><s2><;><s2><ent><s3><;>'''\n"
     ]
    },
    {
     "data": {
      "image/png": "[encoded data removed]",
      "text/plain": [
       "<Figure size 300x200 with 1 Axes>"
      ]
     },
     "metadata": {},
     "output_type": "display_data"
    },
    {
     "name": "stdout",
     "output_type": "stream",
     "text": [
      "{\n",
      "    \"A\": \"I live in Hamburg.\",\n",
      "    \"H\": \"I live nearby a river.\",\n",
      "    \"Exp\": \"Hamburg is situated near a river.\"\n",
      "}\n"
     ]
    }
   ],
   "source": [
    "_, changed_nodes, changed_edges, _ = agent.explain_relation(\"A\", \"H\", \"Exp\")\n",
    "agent.display_Graph(changed_nodes, changed_edges)"
   ]
  },
  {
   "cell_type": "markdown",
   "metadata": {},
   "source": [
    "Chat-GPT argues, that Hamburg is situated near a river, so every person living in Hamburg does live nearby a river.\n",
    "This argumentation seems reasonable and we can see, why Chat-GPT gave that explanation.\n",
    "\n",
    "But we made a thought error when defining our expectation and when preparing examples for the initial prompt.\n",
    "Because the relationship between node **A** and **Exp** is not correct. Living in Hamburg does not entail that Hamburg is situated near a river.\n",
    "Our initial prompt teaches Chat-GPT definitions, that contradict our GBRL syntax.\n",
    "\n",
    "Next we ask Chat-GPT to produce a statement that is neutral to node A."
   ]
  },
  {
   "cell_type": "code",
   "execution_count": 13,
   "metadata": {},
   "outputs": [
    {
     "name": "stdout",
     "output_type": "stream",
     "text": [
      "Pass the following text to ChatGPT and return with the response.\n",
      "'''<s1><:>I live in Hamburg.<;><s2><:><t2><;><s1><neu><s2><;>'''\n"
     ]
    },
    {
     "data": {
      "image/png": "[encoded data removed]",
      "text/plain": [
       "<Figure size 400x200 with 1 Axes>"
      ]
     },
     "metadata": {},
     "output_type": "display_data"
    },
    {
     "name": "stdout",
     "output_type": "stream",
     "text": [
      "{\n",
      "    \"A\": \"I live in Hamburg.\",\n",
      "    \"H\": \"I live nearby a river.\",\n",
      "    \"Exp\": \"Hamburg is situated near a river.\",\n",
      "    \"B\": \"I reside in a city.\"\n",
      "}\n"
     ]
    }
   ],
   "source": [
    "_, changed_nodes, changed_edges, _ = agent.generate_entailment(\"A\", \"B\", relation=\"neu\")\n",
    "agent.display_Graph(changed_nodes, changed_edges)"
   ]
  },
  {
   "cell_type": "markdown",
   "metadata": {},
   "source": [
    "This is unexpected. Chat-GPT decided that Living in Hamburg makes it possible to reside in a city or not.\n",
    "It is not clear, what made Chat-GPT respond with this statement.\n",
    "\n",
    "Last, we ask Chat-GPT about the relatinship between the statements \"I resode om a city.\" and \"I live nearby a river.\" is."
   ]
  },
  {
   "cell_type": "code",
   "execution_count": 14,
   "metadata": {},
   "outputs": [
    {
     "name": "stdout",
     "output_type": "stream",
     "text": [
      "Pass the following text to ChatGPT and return with the response.\n",
      "'''<s1><:>I reside in a city.<;><s2><:>I live nearby a river.<;><e1><:><rel1><;><s1><e1><s2><;>'''\n"
     ]
    },
    {
     "data": {
      "image/png": "[encoded data removed]",
      "text/plain": [
       "<Figure size 400x200 with 1 Axes>"
      ]
     },
     "metadata": {},
     "output_type": "display_data"
    },
    {
     "name": "stdout",
     "output_type": "stream",
     "text": [
      "{\n",
      "    \"A\": \"I live in Hamburg.\",\n",
      "    \"H\": \"I live nearby a river.\",\n",
      "    \"Exp\": \"Hamburg is situated near a river.\",\n",
      "    \"B\": \"I reside in a city.\"\n",
      "}\n"
     ]
    }
   ],
   "source": [
    "_, changed_nodes, changed_edges, _ = agent.relation_between(\"B\", \"H\")\n",
    "agent.display_Graph(changed_nodes, changed_edges)"
   ]
  },
  {
   "cell_type": "markdown",
   "metadata": {},
   "source": [
    "Chat-GPT responded as expected with the neutral relationship. Living in a city could or could not mean living nearby a river.\n",
    "\n",
    "Because we expect that Chat-GPT made a mistake when generating the node **B**, we Chat-GPT again about the relationship between ndoe **A** and **B**."
   ]
  },
  {
   "cell_type": "code",
   "execution_count": 15,
   "metadata": {},
   "outputs": [
    {
     "name": "stdout",
     "output_type": "stream",
     "text": [
      "Pass the following text to ChatGPT and return with the response.\n",
      "'''<s1><:>I live in Hamburg.<;><s2><:>I reside in a city.<;><e1><:><rel1><;><s1><e1><s2><;>'''\n"
     ]
    },
    {
     "data": {
      "image/png": "[encoded data removed]",
      "text/plain": [
       "<Figure size 400x200 with 1 Axes>"
      ]
     },
     "metadata": {},
     "output_type": "display_data"
    },
    {
     "name": "stdout",
     "output_type": "stream",
     "text": [
      "{\n",
      "    \"A\": \"I live in Hamburg.\",\n",
      "    \"H\": \"I live nearby a river.\",\n",
      "    \"Exp\": \"Hamburg is situated near a river.\",\n",
      "    \"B\": \"I reside in a city.\"\n",
      "}\n"
     ]
    }
   ],
   "source": [
    "_, changed_nodes, changed_edges, _ = agent.relation_between(\"A\", \"B\")\n",
    "agent.display_Graph(changed_nodes, changed_edges)"
   ]
  },
  {
   "cell_type": "markdown",
   "metadata": {},
   "source": [
    "In fact, Chat-GPT chose the expected relationship **entailment** this time.\n",
    "\n",
    "We reset the graph for one more query, that underlines a behaviour we will have to address as well."
   ]
  },
  {
   "cell_type": "code",
   "execution_count": 5,
   "metadata": {},
   "outputs": [
    {
     "name": "stdout",
     "output_type": "stream",
     "text": [
      "Pass the following prompt to Chat-GPT:\n",
      "I will give you a set of instructions in a certain style in tripple quotes. Make sure you respond only in the syntax i expect. I will give you multiple examples and expeced responses with an explanation.\n",
      "example 1: '''<s1><:>I love my dog.<;><s2><:>I don't own a dog.<;><e1><:><rel1><;><s1><e1><s2><;>'''\n",
      "example 1 expected response: '''<rel1><:><con><;>'''\n",
      "example 1 explanation: Two nodes <s1> and <s2> are defined and we ask you to solve for the textual entailment relationship <e1> between those nodes with its placeholder <rel1>. Your task is to predict the placeholder <rel1>, which can be either <ent> for entailment, <con> for contradiction,<neu> for neutral, <nent> for not entailment, <ncon> for not contradiction or <nneu> for not neutral. The statement <s1> strongly suggest the ownership which contradicts <s2>, thats why <rel1> can be filled with <con>.\n",
      "example 2: '''<s1><:>I is raining on the street.<;><s2><:><t2><;><s1><ent><s2><;>'''\n",
      "example 2 expected response: '''<t2><:>The street is wet.<;>'''\n",
      "example 2 explanation: Instead of solving for the relationship between two nodes, this task prompts you to solve for a node <s2> itself, that fits the given relationships. A possible answer could be: \"The street is wet.\", because it is almost impossible for the street not to be wet if it's raining. The placeholder <t2> suggests you should try to fill this node with a statement.\n",
      "example 3: '''<s1><:>A lumberjack is working in the woods.<;><s2><:><t2><;><s3><:>A tree fell to the ground<;><s1><ent><s2><;><s2><ent><s3><;><s1><ent><s3><;>'''\n",
      "example 3 expected response: '''<t2><:>The lumberjack fell a tree.<;>'''\n",
      "example 3 explanation: In this example the task is to produce a statement that fill the position for <t2> with the placeholder <t2>, so that all relations between the statements are considered true.\n",
      "Say begin if you understood.\n"
     ]
    }
   ],
   "source": [
    "agent.reset()\n",
    "agent.add_node(\"A\", \"I live in Hamburg.\")"
   ]
  },
  {
   "cell_type": "markdown",
   "metadata": {},
   "source": [
    "We are asking Chat-GPT to produce a node **B** that entails from node **A**."
   ]
  },
  {
   "cell_type": "code",
   "execution_count": 6,
   "metadata": {},
   "outputs": [
    {
     "name": "stdout",
     "output_type": "stream",
     "text": [
      "Pass the following text to ChatGPT and return with the response.\n",
      "'''<s1><:>I live in Hamburg.<;><s2><:><t2><;><s1><ent><s2><;>'''\n"
     ]
    },
    {
     "data": {
      "image/png": "[encoded data removed]",
      "text/plain": [
       "<Figure size 200x100 with 1 Axes>"
      ]
     },
     "metadata": {},
     "output_type": "display_data"
    },
    {
     "name": "stdout",
     "output_type": "stream",
     "text": [
      "{\n",
      "    \"A\": \"I live in Hamburg.\",\n",
      "    \"B\": \"Hamburg is my current place of residence.\"\n",
      "}\n"
     ]
    }
   ],
   "source": [
    "agent.generate_entailment(\"A\", \"B\", \"ent\")\n",
    "agent.display_Graph()"
   ]
  },
  {
   "cell_type": "markdown",
   "metadata": {},
   "source": [
    "Chat-GPT produced a node **B** with a statement that technicaly entails from node **A**, but does not help any argument structur,\n",
    "because its a paraphrase. No information was added or removed."
   ]
  }
 ],
 "metadata": {
  "kernelspec": {
   "display_name": "grundprojekt",
   "language": "python",
   "name": "python3"
  },
  "language_info": {
   "codemirror_mode": {
    "name": "ipython",
    "version": 3
   },
   "file_extension": ".py",
   "mimetype": "text/x-python",
   "name": "python",
   "nbconvert_exporter": "python",
   "pygments_lexer": "ipython3",
   "version": "3.11.3"
  }
 },
 "nbformat": 4,
 "nbformat_minor": 2
}
