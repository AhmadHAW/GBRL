{
 "cells": [
  {
   "cell_type": "code",
   "execution_count": 1,
   "metadata": {},
   "outputs": [
    {
     "name": "stderr",
     "output_type": "stream",
     "text": [
      "2024-02-06 17:15:08.668679: I tensorflow/core/platform/cpu_feature_guard.cc:182] This TensorFlow binary is optimized to use available CPU instructions in performance-critical operations.\n",
      "To enable the following instructions: AVX2 FMA, in other operations, rebuild TensorFlow with the appropriate compiler flags.\n"
     ]
    }
   ],
   "source": [
    "from agents.llama2_agent import LLama2Agent"
   ]
  },
  {
   "cell_type": "markdown",
   "metadata": {},
   "source": [
    "### Llama 2 Agent\n",
    "The finetuned Llama 2 model is loaded from the huggingface hub. This can only be done with an access token for this repository. If needed, please contact Ahmad.Khalidi@Haw-Hamburg.de for access."
   ]
  },
  {
   "cell_type": "code",
   "execution_count": 2,
   "metadata": {},
   "outputs": [
    {
     "name": "stdout",
     "output_type": "stream",
     "text": [
      "Token will not been saved to git credential helper. Pass `add_to_git_credential=True` if you want to set the git credential as well.\n",
      "Token is valid (permission: read).\n",
      "Your token has been saved to /home/jovyan/hf_home/token\n",
      "Login successful\n"
     ]
    },
    {
     "name": "stderr",
     "output_type": "stream",
     "text": [
      "You are using the default legacy behaviour of the <class 'transformers.models.llama.tokenization_llama.LlamaTokenizer'>. This is expected, and simply means that the `legacy` (previous) behavior will be used so nothing changes for you. If you want to use the new behaviour, set `legacy=False`. This should only be set if you understand what it means, and thoroughly read the reason why this was added as explained in https://github.com/huggingface/transformers/pull/24565\n"
     ]
    }
   ],
   "source": [
    "agent = LLama2Agent()"
   ]
  },
  {
   "cell_type": "markdown",
   "metadata": {},
   "source": [
    "First we are adding the nodes to the graph and ask the model to predict the relationship between those nodes. The agent responds with a flag, if the generated sequence matches the expected format. In this case we expect **\\<rel1>** to be filled with an entailment  relationship. If the agent is not able to generate a matching sequence, the error is printed and we are adding the relationship manually."
   ]
  },
  {
   "cell_type": "code",
   "execution_count": null,
   "metadata": {},
   "outputs": [],
   "source": [
    "agent.add_node(\"A\", \"I live in Hamburg.\")\n",
    "agent.add_node(\"H\", \"I live nearby a river.\")\n",
    "_, _, _, success = agent.relation_between(\"A\", \"H\")\n",
    "if not success:\n",
    "    agent.add_edge(\"A\", \"H\", \"neu\", generated=1)\n",
    "agent.display_Graph()"
   ]
  },
  {
   "cell_type": "markdown",
   "metadata": {},
   "source": [
    "The model was not able to generate a sequence in which the relationship placeholder **\\<rel1>** was filled. The model responded with a statement that could be entailed from the statement **A** but does not fit our expectation of predicting the relationship.<br>\n",
    "\n",
    "Next we are asking the model to explain the relationship between **A** and **H**. Again, if the model does not respond in a form, we expect, we add the expected nodes and edges manually."
   ]
  },
  {
   "cell_type": "code",
   "execution_count": 4,
   "metadata": {},
   "outputs": [
    {
     "name": "stdout",
     "output_type": "stream",
     "text": [
      "Expected response of form '<t2><:>(.*|\\s)<;>' but got '<t2><:>\n",
      "  \n",
      "  \n",
      "  \n",
      "  \n",
      "  \n",
      "  \n",
      "  \n",
      "  \n",
      "  \n",
      "  \n",
      "  \n",
      "  \n",
      "  \n",
      "  \n",
      "  \n",
      "  \n",
      "  \n",
      "  \n",
      "  \n",
      "  \n",
      "  \n",
      "  \n",
      "  \n",
      "  \n",
      "  \n",
      "  \n",
      "  \n",
      "  \n",
      "  \n",
      "  \n",
      "  \n",
      "  \n",
      "  \n",
      "  \n",
      "  \n",
      "  \n",
      "  \n",
      "  \n",
      "  \n",
      "  \n",
      "  \n",
      "  \n",
      "  \n",
      "  \n",
      "  \n",
      "  \n",
      "  \n",
      "  \n",
      "  \n",
      "  \n",
      "  \n",
      "  \n",
      "  \n",
      "  \n",
      "  \n",
      "  \n",
      "  \n",
      "  \n",
      "  \n",
      "  \n",
      "  \n",
      "  \n",
      "  \n",
      "  '.\n"
     ]
    },
    {
     "data": {
      "image/png": "[encoded data removed]",
      "text/plain": [
       "<Figure size 300x200 with 1 Axes>"
      ]
     },
     "metadata": {},
     "output_type": "display_data"
    },
    {
     "name": "stdout",
     "output_type": "stream",
     "text": [
      "{\n",
      "    \"A\": \"I live in Hamburg.\",\n",
      "    \"H\": \"I live nearby a river.\",\n",
      "    \"Exp\": \"It's possible for someone to live in Hamburg and also live far away from the Elbe.\"\n",
      "}\n"
     ]
    }
   ],
   "source": [
    "_, changed_nodes, changed_edges, success = agent.explain_relation(\"A\", \"H\", \"Exp\")\n",
    "if not success:\n",
    "    agent.add_node(\"Exp\", \"It's possible for someone to live in Hamburg and also live far away from the Elbe.\", generated=1)\n",
    "    changed_nodes.add(\"Exp\")\n",
    "    agent.add_edge(\"A\", \"Exp\", \"ent\")\n",
    "    changed_edges.add((\"A\", \"Exp\"))\n",
    "    agent.add_edge(\"Exp\", \"H\", \"neu\")\n",
    "    changed_edges.add((\"Exp\", \"H\"))\n",
    "agent.display_Graph(changed_nodes, changed_edges)"
   ]
  },
  {
   "cell_type": "markdown",
   "metadata": {},
   "source": [
    "This time the model responds with blank output.\n",
    "\n",
    "Next, we ask the model to generate a new statement that has a neutral textual entailment relationship from **A**."
   ]
  },
  {
   "cell_type": "code",
   "execution_count": 5,
   "metadata": {},
   "outputs": [
    {
     "name": "stdout",
     "output_type": "stream",
     "text": [
      "Expected response of form '<t2><:>(.*|\\s)<;>' but got '<t2><:>I live in<|endoftext|> <|endoftext|> <|endoftext|>\n",
      "  \n",
      "<|endoftext|> \n",
      "<|endoftext|> \n",
      "<|endoftext|> \n",
      "<|endoftext|> \n",
      "<|endoftext|> \n",
      "<|endoftext|> \n",
      "<|endoftext|> \n",
      "<|endoftext|> \n",
      "<|endoftext|> \n",
      "<|endoftext|> \n",
      "<|endoftext|> \n",
      "<|'.\n"
     ]
    },
    {
     "data": {
      "image/png": "[encoded data removed]",
      "text/plain": [
       "<Figure size 400x200 with 1 Axes>"
      ]
     },
     "metadata": {},
     "output_type": "display_data"
    },
    {
     "name": "stdout",
     "output_type": "stream",
     "text": [
      "{\n",
      "    \"A\": \"I live in Hamburg.\",\n",
      "    \"H\": \"I live nearby a river.\",\n",
      "    \"Exp\": \"It's possible for someone to live in Hamburg and also live far away from the Elbe.\",\n",
      "    \"B\": \"I live nearby the Bille.\"\n",
      "}\n"
     ]
    }
   ],
   "source": [
    "_, changed_nodes, changed_edges, success = agent.generate_entailment(\"A\", \"B\", relation=\"neu\")    \n",
    "if not success:\n",
    "    agent.add_node(\"B\", \"I live nearby the Bille.\", generated=1)\n",
    "    changed_nodes.add(\"B\")\n",
    "    agent.add_edge(\"A\", \"B\", \"neu\")\n",
    "    changed_edges.add((\"A\", \"B\"))\n",
    "agent.display_Graph(changed_nodes, changed_edges)\n"
   ]
  },
  {
   "cell_type": "markdown",
   "metadata": {},
   "source": [
    "This time the model generates a coherent start but changes apruptly to the end of text token **\\<|endoftext|>**. This token was added during training by the [DeepSpeed framework](https://github.com/microsoft/DeepSpeed).\n",
    "\n",
    "Last, we ask the model to predict the relationship between the newly generated node **B** and the target **H**."
   ]
  },
  {
   "cell_type": "code",
   "execution_count": 6,
   "metadata": {},
   "outputs": [
    {
     "name": "stdout",
     "output_type": "stream",
     "text": [
      "Expected response of form '<rel1><:>(<ent>|<con>|<neu>|<nent>|<ncon>|<nneu>)<;>' but got '<rel1><:>I live nearby two rivers.<;>'.\n"
     ]
    }
   ],
   "source": [
    "_, changed_nodes, changed_edges, success = agent.relation_between(\"B\", \"H\")\n",
    "if success:\n",
    "    agent.display_Graph(changed_nodes, changed_edges)"
   ]
  },
  {
   "cell_type": "markdown",
   "metadata": {},
   "source": [
    "The model responds, again, not with any relationship, but with a statement that could be logically inferred by the two statements **B** and **H**."
   ]
  }
 ],
 "metadata": {
  "kernelspec": {
   "display_name": "Python 3 (ipykernel)",
   "language": "python",
   "name": "python3"
  },
  "language_info": {
   "codemirror_mode": {
    "name": "ipython",
    "version": 3
   },
   "file_extension": ".py",
   "mimetype": "text/x-python",
   "name": "python",
   "nbconvert_exporter": "python",
   "pygments_lexer": "ipython3",
   "version": "3.11.6"
  }
 },
 "nbformat": 4,
 "nbformat_minor": 4
}
